{
 "cells": [
  {
   "cell_type": "markdown",
   "id": "33292bbb-fe36-42c7-b110-e93bc109731d",
   "metadata": {},
   "source": [
    "# Anime Recommender System"
   ]
  },
  {
   "cell_type": "markdown",
   "id": "22609811-f3aa-42de-940d-0e989502c21f",
   "metadata": {},
   "source": [
    "## I. Problem Definition"
   ]
  },
  {
   "cell_type": "markdown",
   "id": "b7287934-ceee-4922-b608-900ca9db9a7a",
   "metadata": {},
   "source": [
    "Salah satu hal yang menarik pada bentuk recommender system di bidang entertainment yaitu anime adalah bagaimana kita melakukan atau memberikan rekomendasi untuk menaikkan/meretain user engagement. \n",
    "\n",
    "Entertainment dalam bentuk layanan streaming sudah bukan lagi hal yang baru/mewah bagi sebagian penonton. Konten layanan streaming ini bervariase dari layanan video, musik, film, hingga anime. Berbagai macam layanan streaming (OTT) anime pun sudah banyak bermunculan seperti cruchyroll, netflix, hulu, bstation, dll sehingga persaingan yang cukup ketat pun tidak akan terelakkan.\n",
    "\n",
    "Pilihan banyaknya anime baik judul maupun genre banyak tersedia dalam layanan OTT tersebut. Namun perlu diingat bahwa user memiliki keterbatasan waktu untuk mencari anime yang cocok dengan seleranya pada saat ingin menontonnya. Hal ini dapat menjadi kesempatan bagi OTT untuk dapat memberikan rekomendasi anime yang setepat mungkin dengan selera penonton. Salah satu metode/ solusi yang dapat digunakan adalah menggunakan perhitungan recommender system untuk mengetahui atau meberikan rekomendasi yang tepat kepada penonton.\n",
    "\n",
    "Pilihan rekomendasi yang tepat tersebut dapat memberikan kenyamanan dan kemudahan bagi user utnuk menonton anime sehingga dapat meningkatkan engagement pada layanan OTT untuk tetap berlangganan dan pada ujungnya dapat meretain atau bahkan meningkatkan revenue perusahaan OTT."
   ]
  },
  {
   "cell_type": "markdown",
   "id": "f7f950f4-f9eb-48fa-a578-d4f66f604430",
   "metadata": {},
   "source": [
    "## II. Data Gathering and Preparation"
   ]
  },
  {
   "cell_type": "markdown",
   "id": "58bff33b-cdeb-4046-9ac1-9742174486e2",
   "metadata": {},
   "source": [
    "Data yang diambil berasal dari situs Myanimelist.com yang terdiri dari user yang memberikan rating terhadap suatu anime. Data tersebut dibagi menjadi 2 data yaitu :\n",
    "1. Data anime, yang memuat database mengenai Anime yang telah berada pada situs Myanimelist.com\n",
    "2. Data rating, yang memuat database user yang telah memberikan rating pada Data Anime"
   ]
  },
  {
   "cell_type": "code",
   "execution_count": 1,
   "id": "59a52a13-31d6-452a-9ddd-cdf1391b3026",
   "metadata": {},
   "outputs": [],
   "source": [
    "# Load this library\n",
    "import numpy as np\n",
    "import pandas as pd"
   ]
  },
  {
   "cell_type": "code",
   "execution_count": 2,
   "id": "679be886-c7de-47c5-90df-1592506ea353",
   "metadata": {},
   "outputs": [
    {
     "data": {
      "text/html": [
       "<div>\n",
       "<style scoped>\n",
       "    .dataframe tbody tr th:only-of-type {\n",
       "        vertical-align: middle;\n",
       "    }\n",
       "\n",
       "    .dataframe tbody tr th {\n",
       "        vertical-align: top;\n",
       "    }\n",
       "\n",
       "    .dataframe thead th {\n",
       "        text-align: right;\n",
       "    }\n",
       "</style>\n",
       "<table border=\"1\" class=\"dataframe\">\n",
       "  <thead>\n",
       "    <tr style=\"text-align: right;\">\n",
       "      <th></th>\n",
       "      <th>user_id</th>\n",
       "      <th>anime_id</th>\n",
       "      <th>rating</th>\n",
       "    </tr>\n",
       "  </thead>\n",
       "  <tbody>\n",
       "    <tr>\n",
       "      <th>0</th>\n",
       "      <td>1</td>\n",
       "      <td>20</td>\n",
       "      <td>-1</td>\n",
       "    </tr>\n",
       "    <tr>\n",
       "      <th>1</th>\n",
       "      <td>1</td>\n",
       "      <td>24</td>\n",
       "      <td>-1</td>\n",
       "    </tr>\n",
       "    <tr>\n",
       "      <th>2</th>\n",
       "      <td>1</td>\n",
       "      <td>79</td>\n",
       "      <td>-1</td>\n",
       "    </tr>\n",
       "    <tr>\n",
       "      <th>3</th>\n",
       "      <td>1</td>\n",
       "      <td>226</td>\n",
       "      <td>-1</td>\n",
       "    </tr>\n",
       "    <tr>\n",
       "      <th>4</th>\n",
       "      <td>1</td>\n",
       "      <td>241</td>\n",
       "      <td>-1</td>\n",
       "    </tr>\n",
       "  </tbody>\n",
       "</table>\n",
       "</div>"
      ],
      "text/plain": [
       "   user_id  anime_id  rating\n",
       "0        1        20      -1\n",
       "1        1        24      -1\n",
       "2        1        79      -1\n",
       "3        1       226      -1\n",
       "4        1       241      -1"
      ]
     },
     "execution_count": 2,
     "metadata": {},
     "output_type": "execute_result"
    }
   ],
   "source": [
    "# Import Data User yang memberikan rating pada anime\n",
    "rating = pd.read_csv(r'D:\\PELATIHAN DATA SCIENCE\\recommender\\rating.csv')\n",
    "rating.head()"
   ]
  },
  {
   "cell_type": "markdown",
   "id": "789e73c6-c4bb-4c5b-98fb-74a8869bb551",
   "metadata": {},
   "source": [
    "Karena keterbatasan source hardware yang digunakan, maka data yang akan diambil adalah sebanyak 20% dari seluruh data rating"
   ]
  },
  {
   "cell_type": "code",
   "execution_count": 3,
   "id": "3b73702a-7dab-4ac6-b927-5cb5f05e9619",
   "metadata": {
    "tags": []
   },
   "outputs": [],
   "source": [
    "# Ambil 20% data rating\n",
    "rating = rating.sample(frac=0.20,replace=False)"
   ]
  },
  {
   "cell_type": "code",
   "execution_count": 4,
   "id": "40aa55d3-2e7f-4b2c-bfd8-e6bb2c001460",
   "metadata": {},
   "outputs": [
    {
     "name": "stdout",
     "output_type": "stream",
     "text": [
      "rating shape: (1562747, 3)\n"
     ]
    }
   ],
   "source": [
    "# Tampilkan jumlah data\n",
    "print(f'rating shape: {rating.shape}')"
   ]
  },
  {
   "cell_type": "code",
   "execution_count": 5,
   "id": "45ed906c-353e-4756-b30a-34f0bf3b22cc",
   "metadata": {},
   "outputs": [
    {
     "name": "stdout",
     "output_type": "stream",
     "text": [
      "count of duplicated rating: 0\n"
     ]
    }
   ],
   "source": [
    "# check Duplicate pada data rating\n",
    "dup_rating = rating[rating.duplicated()].shape[0]\n",
    "print(f'count of duplicated rating: {dup_rating}')"
   ]
  },
  {
   "cell_type": "code",
   "execution_count": 6,
   "id": "8bf2f8eb-5566-4073-be4e-14237d2d6118",
   "metadata": {
    "tags": []
   },
   "outputs": [
    {
     "name": "stdout",
     "output_type": "stream",
     "text": [
      "count of duplicated rating after removing: 0\n"
     ]
    }
   ],
   "source": [
    "#remove duplicate\n",
    "rating.drop_duplicates(keep='first',inplace=True)\n",
    "\n",
    "dup_rating = rating[rating.duplicated()].shape[0]\n",
    "print(f'count of duplicated rating after removing: {dup_rating}')"
   ]
  },
  {
   "cell_type": "code",
   "execution_count": 7,
   "id": "6b8bd69d-702d-4306-8938-9df934f59251",
   "metadata": {},
   "outputs": [
    {
     "name": "stdout",
     "output_type": "stream",
     "text": [
      "rating shape: (1562747, 3)\n",
      "tidak terdapat duplicate pada data rating\n"
     ]
    }
   ],
   "source": [
    "#jumlah setelah check duplicate\n",
    "print(f'rating shape: {rating.shape}')\n",
    "print('tidak terdapat duplicate pada data rating')"
   ]
  },
  {
   "cell_type": "code",
   "execution_count": 8,
   "id": "78b27359-db62-4579-a01c-b1f58358f976",
   "metadata": {
    "tags": []
   },
   "outputs": [
    {
     "name": "stdout",
     "output_type": "stream",
     "text": [
      "[ 6  5  8  9  7 -1 10  3  4  2  1]\n"
     ]
    }
   ],
   "source": [
    "# Check Isian rating\n",
    "print(rating[\"rating\"].unique())"
   ]
  },
  {
   "cell_type": "markdown",
   "id": "7820f0d1-5b55-4838-86db-828396d52ae2",
   "metadata": {},
   "source": [
    "Isian rating terdapat angka \"-1\" yang artinya bahwa user menonton anime tersebut namun tidak memberikan rating. Oleh sebab itu data tersebut dapat dihilangkan sehingga menghasilkan data net sebagai berikut:"
   ]
  },
  {
   "cell_type": "code",
   "execution_count": 9,
   "id": "579adf1a-edfe-406e-a0ae-e368cf7b211e",
   "metadata": {},
   "outputs": [],
   "source": [
    "#hilangkan rating -1\n",
    "rating = rating[rating[\"rating\"] >= 0]"
   ]
  },
  {
   "cell_type": "code",
   "execution_count": 10,
   "id": "77de3243-48f7-4388-9e00-efedad5cf843",
   "metadata": {
    "tags": []
   },
   "outputs": [
    {
     "name": "stdout",
     "output_type": "stream",
     "text": [
      "rating shape: (1267791, 3)\n"
     ]
    }
   ],
   "source": [
    "#jumlah setelah menghilangkan -1\n",
    "print(f'rating shape: {rating.shape}')"
   ]
  },
  {
   "cell_type": "markdown",
   "id": "6528fead-2f9f-4b03-9d4d-cbc86cb0576f",
   "metadata": {},
   "source": [
    "## III. Data Splitting"
   ]
  },
  {
   "cell_type": "markdown",
   "id": "0735a3c2-c117-4d55-b7d1-5e3e1167f253",
   "metadata": {},
   "source": [
    "Dalam mempermudah proses kalkulasi untuk data splitting hingga modelling kita gunakan package Surprise, nantinya package terebut membuat matrix Utility serta membagi data menjadi Full data, Trainset, dan Testset."
   ]
  },
  {
   "cell_type": "code",
   "execution_count": 11,
   "id": "5a5e5c52-dc36-4547-b4e8-2f6ebd062d4f",
   "metadata": {
    "tags": []
   },
   "outputs": [],
   "source": [
    "# Import some library\n",
    "from surprise import Dataset, Reader"
   ]
  },
  {
   "cell_type": "code",
   "execution_count": 12,
   "id": "8ee15446-71c2-43d8-a733-bee8a4d987f3",
   "metadata": {
    "tags": []
   },
   "outputs": [
    {
     "data": {
      "text/plain": [
       "<surprise.reader.Reader at 0x2540beebed0>"
      ]
     },
     "execution_count": 12,
     "metadata": {},
     "output_type": "execute_result"
    }
   ],
   "source": [
    "# Buat reader\n",
    "reader = Reader(rating_scale = (1, 10))\n",
    "reader"
   ]
  },
  {
   "cell_type": "code",
   "execution_count": 13,
   "id": "098dcfe9-3760-468b-8e31-be52f861ba39",
   "metadata": {
    "tags": []
   },
   "outputs": [
    {
     "data": {
      "text/plain": [
       "<surprise.dataset.DatasetAutoFolds at 0x2540beeae10>"
      ]
     },
     "execution_count": 13,
     "metadata": {},
     "output_type": "execute_result"
    }
   ],
   "source": [
    "# Buat Matriks Utility data\n",
    "utility_data = Dataset.load_from_df(\n",
    "                    df = rating[['anime_id','user_id', 'rating']].copy(),\n",
    "                    reader = reader\n",
    "                )\n",
    "\n",
    "utility_data"
   ]
  },
  {
   "cell_type": "code",
   "execution_count": 14,
   "id": "566c85dc-0680-4721-98c0-8f327d7b9e97",
   "metadata": {
    "tags": []
   },
   "outputs": [
    {
     "data": {
      "text/html": [
       "<div>\n",
       "<style scoped>\n",
       "    .dataframe tbody tr th:only-of-type {\n",
       "        vertical-align: middle;\n",
       "    }\n",
       "\n",
       "    .dataframe tbody tr th {\n",
       "        vertical-align: top;\n",
       "    }\n",
       "\n",
       "    .dataframe thead th {\n",
       "        text-align: right;\n",
       "    }\n",
       "</style>\n",
       "<table border=\"1\" class=\"dataframe\">\n",
       "  <thead>\n",
       "    <tr style=\"text-align: right;\">\n",
       "      <th></th>\n",
       "      <th>anime_id</th>\n",
       "      <th>user_id</th>\n",
       "      <th>rating</th>\n",
       "    </tr>\n",
       "  </thead>\n",
       "  <tbody>\n",
       "    <tr>\n",
       "      <th>2134661</th>\n",
       "      <td>527</td>\n",
       "      <td>20655</td>\n",
       "      <td>6</td>\n",
       "    </tr>\n",
       "    <tr>\n",
       "      <th>5667557</th>\n",
       "      <td>19315</td>\n",
       "      <td>53176</td>\n",
       "      <td>5</td>\n",
       "    </tr>\n",
       "    <tr>\n",
       "      <th>1292572</th>\n",
       "      <td>1575</td>\n",
       "      <td>12244</td>\n",
       "      <td>8</td>\n",
       "    </tr>\n",
       "    <tr>\n",
       "      <th>307810</th>\n",
       "      <td>6347</td>\n",
       "      <td>3155</td>\n",
       "      <td>8</td>\n",
       "    </tr>\n",
       "    <tr>\n",
       "      <th>3418474</th>\n",
       "      <td>16668</td>\n",
       "      <td>31513</td>\n",
       "      <td>9</td>\n",
       "    </tr>\n",
       "  </tbody>\n",
       "</table>\n",
       "</div>"
      ],
      "text/plain": [
       "         anime_id  user_id  rating\n",
       "2134661       527    20655       6\n",
       "5667557     19315    53176       5\n",
       "1292572      1575    12244       8\n",
       "307810       6347     3155       8\n",
       "3418474     16668    31513       9"
      ]
     },
     "execution_count": 14,
     "metadata": {},
     "output_type": "execute_result"
    }
   ],
   "source": [
    "# Tampilkan Utility data\n",
    "utility_data.df.head()"
   ]
  },
  {
   "cell_type": "markdown",
   "id": "11d028ed-9f1d-4150-9abb-c63f6ed422db",
   "metadata": {},
   "source": [
    "Selanjutnya kita buat fungsi untuk membagi data menjadi Traiset dan Testset."
   ]
  },
  {
   "cell_type": "code",
   "execution_count": 15,
   "id": "b8e762d0-889c-4cc9-b687-0a6f6a330277",
   "metadata": {
    "tags": []
   },
   "outputs": [],
   "source": [
    "# Create a function to split data\n",
    "def train_test_split(utility_data, test_size, random_state):\n",
    "    \"\"\"\n",
    "    Train test split the data\n",
    "    ref: https://surprise.readthedocs.io/en/stable/FAQ.html#split-data-for-unbiased-estimation-py\n",
    "\n",
    "    Parameters\n",
    "    ----------\n",
    "    utility_data : Surprise utility data\n",
    "        The sample of whole data set\n",
    "\n",
    "    test_size : float, default=0.2 (membagi datatest sebanyaj 20%)\n",
    "        The test size\n",
    "\n",
    "    random_state : int, default=42 (hasil akan berbeda tergantung parameter randomstate yang digunakan)\n",
    "        For reproducibility\n",
    "\n",
    "    Returns\n",
    "    -------\n",
    "    full_data : Surprise utility data\n",
    "        The new utility data\n",
    "\n",
    "    train_data : Surprise format\n",
    "        The train data\n",
    "\n",
    "    test_data : Surprise format\n",
    "        The test data\n",
    "    \"\"\"\n",
    "    # Deep copy the utility_data\n",
    "    full_data = copy.deepcopy(utility_data)\n",
    "\n",
    "    # Generate random seed\n",
    "    np.random.seed(random_state)\n",
    "\n",
    "    # Shuffle the raw_ratings for reproducibility\n",
    "    raw_ratings = full_data.raw_ratings\n",
    "    np.random.shuffle(raw_ratings)\n",
    "\n",
    "    # Define the threshold\n",
    "    threshold = int((1-test_size) * len(raw_ratings))\n",
    "\n",
    "    # Split the data\n",
    "    train_raw_ratings = raw_ratings[:threshold]\n",
    "    test_raw_ratings = raw_ratings[threshold:]\n",
    "\n",
    "    # Get the data\n",
    "    full_data.raw_ratings = train_raw_ratings\n",
    "    train_data = full_data.build_full_trainset()\n",
    "    test_data = full_data.construct_testset(test_raw_ratings)\n",
    "\n",
    "    return full_data, train_data, test_data"
   ]
  },
  {
   "cell_type": "code",
   "execution_count": 16,
   "id": "31d0c31b-3d67-41a6-b987-54c23bf2c39d",
   "metadata": {
    "tags": []
   },
   "outputs": [],
   "source": [
    "# Load library for deep copy\n",
    "import copy\n",
    "# Split the data dengan porsi 20% data test dan random state 42\n",
    "full_data, train_data, test_data = train_test_split(utility_data,\n",
    "                                                    test_size = 0.2,\n",
    "                                                    random_state = 42)"
   ]
  },
  {
   "cell_type": "code",
   "execution_count": 17,
   "id": "e5936dfe-2142-4df5-af5d-2b0b081e3131",
   "metadata": {
    "tags": []
   },
   "outputs": [
    {
     "name": "stdout",
     "output_type": "stream",
     "text": [
      " Jumlah data train sebanyak 1014232\n",
      " Jumlah data test sebanyak 253559\n"
     ]
    }
   ],
   "source": [
    "# Validate the splitting\n",
    "print(f' Jumlah data train sebanyak {train_data.n_ratings}')\n",
    "print(f' Jumlah data test sebanyak {len(test_data)}')"
   ]
  },
  {
   "cell_type": "markdown",
   "id": "6a74dcc8-819d-40af-b9f1-0d8bf8e71458",
   "metadata": {},
   "source": [
    "## IV. Data Preprocessing"
   ]
  },
  {
   "cell_type": "code",
   "execution_count": 18,
   "id": "d7634be4-53d9-447a-8bfe-460be6daed24",
   "metadata": {},
   "outputs": [
    {
     "data": {
      "text/plain": [
       "user_id     0\n",
       "anime_id    0\n",
       "rating      0\n",
       "dtype: int64"
      ]
     },
     "execution_count": 18,
     "metadata": {},
     "output_type": "execute_result"
    }
   ],
   "source": [
    "# Check Missing Value\n",
    "rating.isna().sum()"
   ]
  },
  {
   "cell_type": "code",
   "execution_count": 19,
   "id": "1cc1c2a0-382b-4167-8839-924e8ab5299a",
   "metadata": {},
   "outputs": [
    {
     "name": "stdout",
     "output_type": "stream",
     "text": [
      "missing value yang butuh mendapat perhatian adalah user rating,anime id, dan user id tidak terdapat missing data \n"
     ]
    }
   ],
   "source": [
    "print(\"missing value yang butuh mendapat perhatian adalah user rating,anime id, dan user id tidak terdapat missing data \")"
   ]
  },
  {
   "cell_type": "markdown",
   "id": "c57d19d4-ad49-4432-b240-ca3930bf005e",
   "metadata": {},
   "source": [
    "## V. Modelling"
   ]
  },
  {
   "cell_type": "code",
   "execution_count": 20,
   "id": "72386032-b243-431d-9282-c7ed0c4ce457",
   "metadata": {},
   "outputs": [
    {
     "name": "stdout",
     "output_type": "stream",
     "text": [
      "Defaulting to user installation because normal site-packages is not writeable\n",
      "Requirement already satisfied: surprise in c:\\users\\jkurn\\appdata\\roaming\\python\\python311\\site-packages (0.1)\n",
      "Requirement already satisfied: scikit-surprise in c:\\programdata\\anaconda3\\lib\\site-packages (from surprise) (1.1.3)\n",
      "Requirement already satisfied: joblib>=1.0.0 in c:\\programdata\\anaconda3\\lib\\site-packages (from scikit-surprise->surprise) (1.2.0)\n",
      "Requirement already satisfied: numpy>=1.17.3 in c:\\programdata\\anaconda3\\lib\\site-packages (from scikit-surprise->surprise) (1.24.3)\n",
      "Requirement already satisfied: scipy>=1.3.2 in c:\\programdata\\anaconda3\\lib\\site-packages (from scikit-surprise->surprise) (1.10.1)\n"
     ]
    }
   ],
   "source": [
    "! pip install surprise\n",
    "import surprise"
   ]
  },
  {
   "cell_type": "markdown",
   "id": "dc13ff5b-ff71-4372-a87c-dd76385bd8f5",
   "metadata": {},
   "source": [
    "#### Baseline Model\n",
    "Model yang akan kita gunakan adalah model Baseline dengan metode Mean Prediction"
   ]
  },
  {
   "cell_type": "code",
   "execution_count": 21,
   "id": "faea777e-47ee-400b-b133-2c040857eae7",
   "metadata": {},
   "outputs": [],
   "source": [
    "# Import Library\n",
    "from surprise.model_selection.search import RandomizedSearchCV\n",
    "from surprise import AlgoBase, KNNBaseline, SVD"
   ]
  },
  {
   "cell_type": "code",
   "execution_count": 22,
   "id": "156451f8-90e4-4c91-8f6f-52c712ac1554",
   "metadata": {
    "tags": []
   },
   "outputs": [],
   "source": [
    "class MeanPrediction(AlgoBase):\n",
    "    '''Baseline prediction. Return global mean as prediction'''\n",
    "    def __init__(self):\n",
    "        AlgoBase.__init__(self)\n",
    "\n",
    "    def fit(self, trainset):\n",
    "        '''Fit the train data'''\n",
    "        AlgoBase.fit(self, trainset)\n",
    "\n",
    "    def estimate(self, u, i):\n",
    "        '''Perform the estimation/prediction.'''\n",
    "        est = self.trainset.global_mean\n",
    "        return est"
   ]
  },
  {
   "cell_type": "code",
   "execution_count": 23,
   "id": "0d43d6b6-eb39-49b6-bf8d-9d588291e781",
   "metadata": {},
   "outputs": [
    {
     "data": {
      "text/plain": [
       "<__main__.MeanPrediction at 0x2543bd79590>"
      ]
     },
     "execution_count": 23,
     "metadata": {},
     "output_type": "execute_result"
    }
   ],
   "source": [
    "# Creating baseline model instance\n",
    "model_baseline = MeanPrediction()\n",
    "model_baseline"
   ]
  },
  {
   "cell_type": "code",
   "execution_count": 24,
   "id": "38fb2810-2172-4e79-9948-eee18ce13f13",
   "metadata": {
    "tags": []
   },
   "outputs": [],
   "source": [
    "# Import the cross validation module\n",
    "from surprise.model_selection import cross_validate"
   ]
  },
  {
   "cell_type": "code",
   "execution_count": 25,
   "id": "6119108a-43c2-490e-9123-10f893807815",
   "metadata": {
    "tags": []
   },
   "outputs": [],
   "source": [
    "# Use full_data for cross validation\n",
    "# Your results could be different because\n",
    "# there is no random seed stated within this functions\n",
    "cv_baseline = cross_validate(algo = model_baseline,\n",
    "                             data = full_data,\n",
    "                             cv = 5,\n",
    "                             measures = ['rmse'])"
   ]
  },
  {
   "cell_type": "code",
   "execution_count": 26,
   "id": "b33c43b1-2b85-482b-aacf-0bafca26dd99",
   "metadata": {
    "tags": []
   },
   "outputs": [
    {
     "name": "stdout",
     "output_type": "stream",
     "text": [
      " Nilai RMSE untuk Basemodel adalah 1.5715454060613\n"
     ]
    }
   ],
   "source": [
    "# Extract CV eith RMSE results\n",
    "cv_baseline_rmse = cv_baseline['test_rmse'].mean()\n",
    "print(f' Nilai RMSE untuk Basemodel adalah {cv_baseline_rmse}')"
   ]
  },
  {
   "cell_type": "markdown",
   "id": "f236fc75-501a-4518-895d-708aaae331f3",
   "metadata": {},
   "source": [
    "#### k-Nearest Neighbor kNN"
   ]
  },
  {
   "cell_type": "markdown",
   "id": "eb9f1e38-a0b3-4ee5-ad41-0738e6f27e62",
   "metadata": {},
   "source": [
    "Kita akan merekomendasikan anime berdasarkan rating maka approach dan task yang tepat digunakan adalah regresi, sehingga kNN dapat digunakan sebagai recommender system dengan menggunakan rating item lain sebagai referensi dalam merekomendasi (Item Based) Collaborative Filtering dan penggunaan pearson similarity yang lebih efektif daripada cosine (jurnal telkom University)."
   ]
  },
  {
   "cell_type": "code",
   "execution_count": 27,
   "id": "431c06f0-a44c-436a-9fe3-827333420064",
   "metadata": {
    "tags": []
   },
   "outputs": [],
   "source": [
    "# Set parameter menggunakan perhitungan similarity pearson_baseline dan menggunakan User Based CF\n",
    "sim_options = {\n",
    "    'name': 'pearson_baseline',\n",
    "    'user_based': 'False'\n",
    "}"
   ]
  },
  {
   "cell_type": "code",
   "execution_count": 28,
   "id": "9436c96b-a9b5-40d8-8838-cedb0cd7f284",
   "metadata": {
    "tags": []
   },
   "outputs": [],
   "source": [
    "knn_baseline = KNNBaseline(sim_options = sim_options)"
   ]
  },
  {
   "cell_type": "code",
   "execution_count": 29,
   "id": "5c948533-18e6-42c8-858b-986f0c8ed8ec",
   "metadata": {
    "tags": []
   },
   "outputs": [
    {
     "name": "stdout",
     "output_type": "stream",
     "text": [
      "Estimating biases using als...\n",
      "Computing the pearson_baseline similarity matrix...\n",
      "Done computing similarity matrix.\n"
     ]
    },
    {
     "data": {
      "text/plain": [
       "<surprise.prediction_algorithms.knns.KNNBaseline at 0x2540d3924d0>"
      ]
     },
     "execution_count": 29,
     "metadata": {},
     "output_type": "execute_result"
    }
   ],
   "source": [
    "knn_baseline.fit(train_data)"
   ]
  },
  {
   "cell_type": "code",
   "execution_count": 30,
   "id": "6e18db88-39f3-4cf1-afa9-59c44da3248a",
   "metadata": {
    "tags": []
   },
   "outputs": [
    {
     "name": "stdout",
     "output_type": "stream",
     "text": [
      "Estimating biases using als...\n",
      "Computing the pearson_baseline similarity matrix...\n",
      "Done computing similarity matrix.\n",
      "Estimating biases using als...\n",
      "Computing the pearson_baseline similarity matrix...\n",
      "Done computing similarity matrix.\n",
      "Estimating biases using als...\n",
      "Computing the pearson_baseline similarity matrix...\n",
      "Done computing similarity matrix.\n",
      "Estimating biases using als...\n",
      "Computing the pearson_baseline similarity matrix...\n",
      "Done computing similarity matrix.\n",
      "Estimating biases using als...\n",
      "Computing the pearson_baseline similarity matrix...\n",
      "Done computing similarity matrix.\n"
     ]
    }
   ],
   "source": [
    "# Use full_data for cross validation\n",
    "# Your results could be different because\n",
    "# there is no random seed stated within this functions\n",
    "cv_knn = cross_validate(algo = knn_baseline,\n",
    "                             data = full_data,\n",
    "                             cv = 5,\n",
    "                             measures = ['rmse'])"
   ]
  },
  {
   "cell_type": "code",
   "execution_count": 31,
   "id": "bf215454-f102-4401-81fc-29a1d6af45d6",
   "metadata": {
    "tags": []
   },
   "outputs": [
    {
     "name": "stdout",
     "output_type": "stream",
     "text": [
      " Nilai RMSE untuk kNNBaseline adalah 1.288986957052117\n"
     ]
    }
   ],
   "source": [
    "knn_baseline_rmse = cv_knn['test_rmse'].mean()\n",
    "print(f' Nilai RMSE untuk kNNBaseline adalah {knn_baseline_rmse}')"
   ]
  },
  {
   "cell_type": "markdown",
   "id": "97bdc225-5619-4dfe-82aa-52f3a4b5b7a0",
   "metadata": {
    "tags": []
   },
   "source": [
    "#### Singular Value Decomposition (SVD)\n",
    "Selain peggunaan algoritma KNN, collaborative filtering dapat dilakukan menggunakan Matrix Factorization (MF), cara kerjanya yaitu dengan mendekomposisi interaksi matriks item - user menjadi produk dari dua matriks dua dimensi yang lebih rendah. yaitu User Matrix di mana baris mewakili pengguna dan kolom adalah latent factor. Satu lagi yaitu Item Matrix di mana baris merupakan latent factor dan kolom mewakili item."
   ]
  },
  {
   "cell_type": "code",
   "execution_count": 32,
   "id": "c17ab966-8934-4077-abd9-0b787fbce098",
   "metadata": {
    "tags": []
   },
   "outputs": [],
   "source": [
    "# Creating baseline model instance\n",
    "svd = SVD()"
   ]
  },
  {
   "cell_type": "code",
   "execution_count": 33,
   "id": "bbc6585a-d5f1-4b93-ab63-6e0213a5f535",
   "metadata": {
    "tags": []
   },
   "outputs": [
    {
     "data": {
      "text/plain": [
       "<surprise.prediction_algorithms.matrix_factorization.SVD at 0x2544f1e4c50>"
      ]
     },
     "execution_count": 33,
     "metadata": {},
     "output_type": "execute_result"
    }
   ],
   "source": [
    "svd.fit(train_data)"
   ]
  },
  {
   "cell_type": "code",
   "execution_count": 34,
   "id": "64cc5fde-f3d0-4df7-b2eb-94d76a45e1f3",
   "metadata": {
    "tags": []
   },
   "outputs": [],
   "source": [
    "# Use full_data for cross validation\n",
    "# Your results could be different because\n",
    "# there is no random seed stated within this functions\n",
    "cv_svd = cross_validate(algo = svd,\n",
    "                             data = full_data,\n",
    "                             cv = 5,\n",
    "                             measures = ['rmse'])"
   ]
  },
  {
   "cell_type": "code",
   "execution_count": 35,
   "id": "d4a072ca-76a3-4960-b734-d61da693351a",
   "metadata": {},
   "outputs": [
    {
     "name": "stdout",
     "output_type": "stream",
     "text": [
      " Nilai RMSE untuk SVD adalah 1.2814901784770778\n"
     ]
    }
   ],
   "source": [
    "svd_rmse = cv_svd['test_rmse'].mean()\n",
    "print(f' Nilai RMSE untuk SVD adalah {svd_rmse}')"
   ]
  },
  {
   "cell_type": "markdown",
   "id": "0e872b57-796f-4613-9546-be591a581f0b",
   "metadata": {},
   "source": [
    "#### Performance Comparisons\n",
    "Bandingkan Nilai RMSE antara ketiga model yang telah di buat."
   ]
  },
  {
   "cell_type": "code",
   "execution_count": 36,
   "id": "77d5fa52-b766-4ee2-92ff-e5b00457bd84",
   "metadata": {
    "tags": []
   },
   "outputs": [
    {
     "data": {
      "text/html": [
       "<div>\n",
       "<style scoped>\n",
       "    .dataframe tbody tr th:only-of-type {\n",
       "        vertical-align: middle;\n",
       "    }\n",
       "\n",
       "    .dataframe tbody tr th {\n",
       "        vertical-align: top;\n",
       "    }\n",
       "\n",
       "    .dataframe thead th {\n",
       "        text-align: right;\n",
       "    }\n",
       "</style>\n",
       "<table border=\"1\" class=\"dataframe\">\n",
       "  <thead>\n",
       "    <tr style=\"text-align: right;\">\n",
       "      <th></th>\n",
       "      <th>Model</th>\n",
       "      <th>CV Performance - RMSE</th>\n",
       "    </tr>\n",
       "  </thead>\n",
       "  <tbody>\n",
       "    <tr>\n",
       "      <th>0</th>\n",
       "      <td>Baseline</td>\n",
       "      <td>1.571545</td>\n",
       "    </tr>\n",
       "    <tr>\n",
       "      <th>1</th>\n",
       "      <td>kNN-Baseline</td>\n",
       "      <td>1.288987</td>\n",
       "    </tr>\n",
       "    <tr>\n",
       "      <th>2</th>\n",
       "      <td>SVD</td>\n",
       "      <td>1.281490</td>\n",
       "    </tr>\n",
       "  </tbody>\n",
       "</table>\n",
       "</div>"
      ],
      "text/plain": [
       "          Model  CV Performance - RMSE\n",
       "0      Baseline               1.571545\n",
       "1  kNN-Baseline               1.288987\n",
       "2           SVD               1.281490"
      ]
     },
     "execution_count": 36,
     "metadata": {},
     "output_type": "execute_result"
    }
   ],
   "source": [
    "# Membuat Tabel Summary\n",
    "summary_df = pd.DataFrame({'Model': ['Baseline', 'kNN-Baseline', 'SVD'],\n",
    "                           'CV Performance - RMSE': [cv_baseline_rmse,knn_baseline_rmse,svd_rmse ],\n",
    "                           })\n",
    "\n",
    "summary_df"
   ]
  },
  {
   "cell_type": "markdown",
   "id": "6f38b9d8-91f1-4dd8-9aa1-296b90ee062b",
   "metadata": {},
   "source": [
    "Model yang cukup baik adalah model SVD oleh karena itu kita lakukan parameter tuning untuk memperoleh hasil yang optimal."
   ]
  },
  {
   "cell_type": "markdown",
   "id": "2c764bb7-d9f6-479e-82eb-d7d063d26a04",
   "metadata": {},
   "source": [
    "## VI. SVD Hyperparameter Tuning"
   ]
  },
  {
   "cell_type": "markdown",
   "id": "a090044b-9f91-4b13-b5b4-6a34363f5d68",
   "metadata": {},
   "source": [
    "Hyperparameter Candidate :\n",
    "- Learning Rate (𝛾) terdiri dari beberapa nilai : [0.5,0.05,0.005]\n",
    "- Jumlah Latent Factor beberapa nilai : [50,200]\n",
    "- Regularization Strength beberapa nilai :  [0.2,0.01,0.02]"
   ]
  },
  {
   "cell_type": "code",
   "execution_count": 37,
   "id": "6a6c2824-4a95-4fef-bcad-9199e05e6890",
   "metadata": {
    "tags": []
   },
   "outputs": [],
   "source": [
    "# Set parameter SVD\n",
    "params_SVD = {'lr_all' : [0.5,0.05,0.005], 'n_factors' : [50,200],\n",
    "              'reg_all' : [0.2,0.01,0.02]\n",
    "              }"
   ]
  },
  {
   "cell_type": "code",
   "execution_count": 38,
   "id": "f97a5da2-8210-42bc-aea0-a0506cb5e019",
   "metadata": {
    "tags": []
   },
   "outputs": [],
   "source": [
    "# Buat Tuning SVD\n",
    "tuning_svd = RandomizedSearchCV(algo_class=SVD, param_distributions = params_SVD,\n",
    "                   cv=5\n",
    "                   )"
   ]
  },
  {
   "cell_type": "code",
   "execution_count": 39,
   "id": "bc4e4d39-0f44-4cf1-8a3e-e7cdebfb8252",
   "metadata": {
    "tags": []
   },
   "outputs": [],
   "source": [
    "# Lakukan Tuning SVD pada full data\n",
    "tuning_svd.fit(data=full_data)"
   ]
  },
  {
   "cell_type": "code",
   "execution_count": 40,
   "id": "54450363-46de-4920-ba3b-b29572247861",
   "metadata": {
    "tags": []
   },
   "outputs": [],
   "source": [
    "# Best Score SVD\n",
    "tuning_svd_rmse = tuning_svd.best_score['rmse']\n",
    "\n",
    "# Best Param SVD\n",
    "best_params_svd = tuning_svd.best_params['rmse']"
   ]
  },
  {
   "cell_type": "markdown",
   "id": "c7689f40-b13e-4d0d-8a31-7f111eb2754a",
   "metadata": {},
   "source": [
    "### Evaluate Model"
   ]
  },
  {
   "cell_type": "code",
   "execution_count": 41,
   "id": "0d768ba9-e6df-4200-992c-edbfc454884f",
   "metadata": {
    "tags": []
   },
   "outputs": [
    {
     "data": {
      "text/html": [
       "<div>\n",
       "<style scoped>\n",
       "    .dataframe tbody tr th:only-of-type {\n",
       "        vertical-align: middle;\n",
       "    }\n",
       "\n",
       "    .dataframe tbody tr th {\n",
       "        vertical-align: top;\n",
       "    }\n",
       "\n",
       "    .dataframe thead th {\n",
       "        text-align: right;\n",
       "    }\n",
       "</style>\n",
       "<table border=\"1\" class=\"dataframe\">\n",
       "  <thead>\n",
       "    <tr style=\"text-align: right;\">\n",
       "      <th></th>\n",
       "      <th>Model</th>\n",
       "      <th>CV Performance - RMSE</th>\n",
       "      <th>Model Configuration</th>\n",
       "    </tr>\n",
       "  </thead>\n",
       "  <tbody>\n",
       "    <tr>\n",
       "      <th>0</th>\n",
       "      <td>SVD</td>\n",
       "      <td>1.281490</td>\n",
       "      <td>N/A</td>\n",
       "    </tr>\n",
       "    <tr>\n",
       "      <th>1</th>\n",
       "      <td>SVD-Tuned</td>\n",
       "      <td>1.242318</td>\n",
       "      <td>{'lr_all': 0.05, 'n_factors': 200, 'reg_all': ...</td>\n",
       "    </tr>\n",
       "  </tbody>\n",
       "</table>\n",
       "</div>"
      ],
      "text/plain": [
       "       Model  CV Performance - RMSE  \\\n",
       "0        SVD               1.281490   \n",
       "1  SVD-Tuned               1.242318   \n",
       "\n",
       "                                 Model Configuration  \n",
       "0                                                N/A  \n",
       "1  {'lr_all': 0.05, 'n_factors': 200, 'reg_all': ...  "
      ]
     },
     "execution_count": 41,
     "metadata": {},
     "output_type": "execute_result"
    }
   ],
   "source": [
    "summary_df = pd.DataFrame({'Model': ['SVD', 'SVD-Tuned'],\n",
    "                           'CV Performance - RMSE': [svd_rmse,tuning_svd_rmse ],\n",
    "                           'Model Configuration':['N/A',f'{best_params_svd}']})\n",
    "summary_df"
   ]
  },
  {
   "cell_type": "markdown",
   "id": "3ddc7ff1-b0bb-4834-8c98-ebf15bc9adc7",
   "metadata": {},
   "source": [
    "Setelah mendapatkan best parameter yang terbukti menghasilkan RMSE lebih baik, selanjutnya adalah retrain data tersebut dengan menggunakan best parameter."
   ]
  },
  {
   "cell_type": "markdown",
   "id": "d8f17bd3-19dd-414d-b32e-4e33133aecad",
   "metadata": {},
   "source": [
    "#### Retrain data with best parameter"
   ]
  },
  {
   "cell_type": "code",
   "execution_count": 42,
   "id": "2a619a76-1d73-41ed-ad93-e918eaf95cd9",
   "metadata": {
    "tags": []
   },
   "outputs": [
    {
     "data": {
      "text/plain": [
       "<surprise.prediction_algorithms.matrix_factorization.SVD at 0x254546556d0>"
      ]
     },
     "execution_count": 42,
     "metadata": {},
     "output_type": "execute_result"
    }
   ],
   "source": [
    "# Retrain SVD dengan Best Parameter\n",
    "# Create object\n",
    "model_best = SVD(**best_params_svd)\n",
    "\n",
    "# Retrain on whole train dataset\n",
    "model_best.fit(train_data)"
   ]
  },
  {
   "cell_type": "markdown",
   "id": "14ad7d85-cfd1-4dbb-b635-2122775e40a4",
   "metadata": {},
   "source": [
    "#### Hitung Akurasi data dengan menggunakan Data Test"
   ]
  },
  {
   "cell_type": "code",
   "execution_count": 43,
   "id": "cb1c5ff2-5fc8-4469-a877-543546ac31a7",
   "metadata": {
    "tags": []
   },
   "outputs": [],
   "source": [
    "# import performance library\n",
    "from surprise import accuracy"
   ]
  },
  {
   "cell_type": "code",
   "execution_count": 44,
   "id": "82067731-4664-4564-8897-862c52eebf94",
   "metadata": {
    "tags": []
   },
   "outputs": [
    {
     "name": "stdout",
     "output_type": "stream",
     "text": [
      "RMSE: 1.2347\n"
     ]
    },
    {
     "data": {
      "text/plain": [
       "1.2347260606386212"
      ]
     },
     "execution_count": 44,
     "metadata": {},
     "output_type": "execute_result"
    }
   ],
   "source": [
    "# Hitung Prediksi\n",
    "test_pred = model_best.test(test_data)\n",
    "test_rmse = accuracy.rmse(test_pred)\n",
    "test_rmse"
   ]
  },
  {
   "cell_type": "code",
   "execution_count": 45,
   "id": "5b2747eb-dd06-46dc-a21c-10dc7c58436b",
   "metadata": {
    "tags": []
   },
   "outputs": [
    {
     "data": {
      "text/html": [
       "<div>\n",
       "<style scoped>\n",
       "    .dataframe tbody tr th:only-of-type {\n",
       "        vertical-align: middle;\n",
       "    }\n",
       "\n",
       "    .dataframe tbody tr th {\n",
       "        vertical-align: top;\n",
       "    }\n",
       "\n",
       "    .dataframe thead th {\n",
       "        text-align: right;\n",
       "    }\n",
       "</style>\n",
       "<table border=\"1\" class=\"dataframe\">\n",
       "  <thead>\n",
       "    <tr style=\"text-align: right;\">\n",
       "      <th></th>\n",
       "      <th>Model</th>\n",
       "      <th>RMSE-Tuning</th>\n",
       "      <th>RMSE-Test</th>\n",
       "    </tr>\n",
       "  </thead>\n",
       "  <tbody>\n",
       "    <tr>\n",
       "      <th>0</th>\n",
       "      <td>SVD</td>\n",
       "      <td>1.242318</td>\n",
       "      <td>1.234726</td>\n",
       "    </tr>\n",
       "  </tbody>\n",
       "</table>\n",
       "</div>"
      ],
      "text/plain": [
       "  Model  RMSE-Tuning  RMSE-Test\n",
       "0   SVD     1.242318   1.234726"
      ]
     },
     "execution_count": 45,
     "metadata": {},
     "output_type": "execute_result"
    }
   ],
   "source": [
    "# Summary RMSE\n",
    "summary_test_df = pd.DataFrame({'Model' : ['SVD'],\n",
    "                                'RMSE-Tuning': [tuning_svd.best_score['rmse']],\n",
    "                                'RMSE-Test': [test_rmse]})\n",
    "\n",
    "summary_test_df"
   ]
  },
  {
   "cell_type": "markdown",
   "id": "903f96a5-8c9c-48d9-a8f9-1ab2652aee61",
   "metadata": {},
   "source": [
    "Berdasarkan RMSE tersebut maka model menghasilkan prediksi test yang baik sehingga kita dapat menggunakannya untuk memprediksi User."
   ]
  },
  {
   "cell_type": "markdown",
   "id": "0e38f125-07c9-459c-85b5-20bb5e3ba28f",
   "metadata": {},
   "source": [
    "## VII. Prediction"
   ]
  },
  {
   "cell_type": "code",
   "execution_count": 46,
   "id": "0078896c-3a8b-452a-b53f-a42e3060628a",
   "metadata": {
    "tags": []
   },
   "outputs": [],
   "source": [
    "# Membuat Sample Prediction\n",
    "sample_prediction = model_best.predict(uid = 9,\n",
    "                                      iid = 10)"
   ]
  },
  {
   "cell_type": "code",
   "execution_count": 47,
   "id": "7703370b-2279-45c6-b4c2-91fe6e3b6ff9",
   "metadata": {
    "tags": []
   },
   "outputs": [
    {
     "data": {
      "text/plain": [
       "Prediction(uid=9, iid=10, r_ui=None, est=8.41249640544237, details={'was_impossible': False})"
      ]
     },
     "execution_count": 47,
     "metadata": {},
     "output_type": "execute_result"
    }
   ],
   "source": [
    "sample_prediction"
   ]
  },
  {
   "cell_type": "markdown",
   "id": "ed3b496e-7bbf-4d8a-90bc-e956b8e0fd61",
   "metadata": {},
   "source": [
    "The results tell us\n",
    "\n",
    "- r_ui : actual rating --> None, means user 9 have yet rated movie 10\n",
    "- est : the estimated rating from our model\n",
    "- details : whether prediction is impossible or not. So it's possible to predict."
   ]
  },
  {
   "cell_type": "markdown",
   "id": "76ec595b-0f06-4b79-8114-54430729953e",
   "metadata": {},
   "source": [
    "#### Membuat Fungsi Prediksi"
   ]
  },
  {
   "cell_type": "code",
   "execution_count": 48,
   "id": "d9ea0c0f-36b8-4a9f-b910-7448c5a69248",
   "metadata": {
    "tags": []
   },
   "outputs": [],
   "source": [
    "# Membuat Fungsi Prediksi\n",
    "def get_unrated_item(userid, rating):\n",
    "    \"\"\"\n",
    "    Get unrated item id from a user id\n",
    "\n",
    "    Parameters\n",
    "    ----------\n",
    "    userid : int\n",
    "        The user id\n",
    "\n",
    "    rating_data : pandas DataFrame\n",
    "        The rating data\n",
    "\n",
    "    Returns\n",
    "    -------\n",
    "    unrated_item_id : set\n",
    "        The unrated item id\n",
    "    \"\"\"\n",
    "    # Find the whole item id\n",
    "    unique_item_id = set(rating['anime_id'])\n",
    "\n",
    "    # Find the item id that was rated by user id\n",
    "    rated_item_id = set(rating.loc[rating['user_id']==userid, 'anime_id'])\n",
    "\n",
    "    # Find the unrated item id\n",
    "    unrated_item_id = unique_item_id.difference(rated_item_id)\n",
    "\n",
    "    return unrated_item_id\n"
   ]
  },
  {
   "cell_type": "code",
   "execution_count": 49,
   "id": "172894c8-d530-4d2a-ae7f-6123f2cc414a",
   "metadata": {
    "tags": []
   },
   "outputs": [],
   "source": [
    "# Buat Fungsi Unrated Anime\n",
    "def get_pred_unrated_item(userid, estimator, unrated_item_id):\n",
    "    \"\"\"\n",
    "    Get the predicted unrated item id from user id\n",
    "\n",
    "    Parameters\n",
    "    ----------\n",
    "    userid : int\n",
    "        The user id\n",
    "\n",
    "    estimator : Surprise object\n",
    "        The estimator\n",
    "\n",
    "    unrated_item_id : set\n",
    "        The unrated item id\n",
    "\n",
    "    Returns\n",
    "    -------\n",
    "    pred_data : pandas Dataframe\n",
    "        The predicted rating of unrated item of user id\n",
    "    \"\"\"\n",
    "    # Initialize dict\n",
    "    pred_dict = {\n",
    "        'user_id': userid,\n",
    "        'anime_id': [],\n",
    "        'predicted_rating': []\n",
    "    }\n",
    "\n",
    "    # Loop for over all unrated movie Id\n",
    "    for id in unrated_item_id:\n",
    "        # Create a prediction\n",
    "        pred_id = estimator.predict(uid = pred_dict['user_id'],\n",
    "                                    iid = id)\n",
    "\n",
    "        # Append\n",
    "        pred_dict['anime_id'].append(id)\n",
    "        pred_dict['predicted_rating'].append(pred_id.est)\n",
    "\n",
    "    # Create a dataframe\n",
    "    pred_data = pd.DataFrame(pred_dict).sort_values('predicted_rating',\n",
    "                                                     ascending = False)\n",
    "\n",
    "    return pred_data"
   ]
  },
  {
   "cell_type": "markdown",
   "id": "87b67782-f1e1-4a25-9f6c-d279255c6181",
   "metadata": {},
   "source": [
    "#### Load Anime Database\n",
    "Digunakan untuk memberikan keterangan nama dan genre anime"
   ]
  },
  {
   "cell_type": "code",
   "execution_count": 50,
   "id": "ebd8873c-11f8-44d5-b197-1debd3208845",
   "metadata": {
    "tags": []
   },
   "outputs": [],
   "source": [
    "# Load Anime Database\n",
    "def load_anime_data(anime_path):\n",
    "    \"\"\"\n",
    "    Load movie data from the given path\n",
    "\n",
    "    Parameters\n",
    "    ----------\n",
    "    anime_path : str\n",
    "        The movie data path\n",
    "\n",
    "    Returns\n",
    "    -------\n",
    "    anime : pandas DataFrame\n",
    "        The movie metadata\n",
    "    \"\"\"\n",
    "    # Load data\n",
    "    anime = pd.read_csv(anime_path,\n",
    "                             index_col='anime_id',\n",
    "                             delimiter=',')\n",
    "\n",
    "    print('Movie data shape :', anime.shape)\n",
    "    return anime"
   ]
  },
  {
   "cell_type": "code",
   "execution_count": 51,
   "id": "50ed043b-b31a-443d-9e63-120d313d8071",
   "metadata": {
    "tags": []
   },
   "outputs": [],
   "source": [
    "# Define the anime path\n",
    "anime_path = r'D:\\PELATIHAN DATA SCIENCE\\recommender\\anime.csv'"
   ]
  },
  {
   "cell_type": "code",
   "execution_count": 52,
   "id": "581973a1-56da-412e-9ceb-3553142041f9",
   "metadata": {
    "tags": []
   },
   "outputs": [
    {
     "name": "stdout",
     "output_type": "stream",
     "text": [
      "Movie data shape : (12294, 6)\n"
     ]
    },
    {
     "data": {
      "text/html": [
       "<div>\n",
       "<style scoped>\n",
       "    .dataframe tbody tr th:only-of-type {\n",
       "        vertical-align: middle;\n",
       "    }\n",
       "\n",
       "    .dataframe tbody tr th {\n",
       "        vertical-align: top;\n",
       "    }\n",
       "\n",
       "    .dataframe thead th {\n",
       "        text-align: right;\n",
       "    }\n",
       "</style>\n",
       "<table border=\"1\" class=\"dataframe\">\n",
       "  <thead>\n",
       "    <tr style=\"text-align: right;\">\n",
       "      <th></th>\n",
       "      <th>name</th>\n",
       "      <th>genre</th>\n",
       "      <th>type</th>\n",
       "      <th>episodes</th>\n",
       "      <th>rating</th>\n",
       "      <th>members</th>\n",
       "    </tr>\n",
       "    <tr>\n",
       "      <th>anime_id</th>\n",
       "      <th></th>\n",
       "      <th></th>\n",
       "      <th></th>\n",
       "      <th></th>\n",
       "      <th></th>\n",
       "      <th></th>\n",
       "    </tr>\n",
       "  </thead>\n",
       "  <tbody>\n",
       "    <tr>\n",
       "      <th>32281</th>\n",
       "      <td>Kimi no Na wa.</td>\n",
       "      <td>Drama, Romance, School, Supernatural</td>\n",
       "      <td>Movie</td>\n",
       "      <td>1</td>\n",
       "      <td>9.37</td>\n",
       "      <td>200630</td>\n",
       "    </tr>\n",
       "    <tr>\n",
       "      <th>5114</th>\n",
       "      <td>Fullmetal Alchemist: Brotherhood</td>\n",
       "      <td>Action, Adventure, Drama, Fantasy, Magic, Mili...</td>\n",
       "      <td>TV</td>\n",
       "      <td>64</td>\n",
       "      <td>9.26</td>\n",
       "      <td>793665</td>\n",
       "    </tr>\n",
       "    <tr>\n",
       "      <th>28977</th>\n",
       "      <td>Gintama°</td>\n",
       "      <td>Action, Comedy, Historical, Parody, Samurai, S...</td>\n",
       "      <td>TV</td>\n",
       "      <td>51</td>\n",
       "      <td>9.25</td>\n",
       "      <td>114262</td>\n",
       "    </tr>\n",
       "    <tr>\n",
       "      <th>9253</th>\n",
       "      <td>Steins;Gate</td>\n",
       "      <td>Sci-Fi, Thriller</td>\n",
       "      <td>TV</td>\n",
       "      <td>24</td>\n",
       "      <td>9.17</td>\n",
       "      <td>673572</td>\n",
       "    </tr>\n",
       "    <tr>\n",
       "      <th>9969</th>\n",
       "      <td>Gintama&amp;#039;</td>\n",
       "      <td>Action, Comedy, Historical, Parody, Samurai, S...</td>\n",
       "      <td>TV</td>\n",
       "      <td>51</td>\n",
       "      <td>9.16</td>\n",
       "      <td>151266</td>\n",
       "    </tr>\n",
       "  </tbody>\n",
       "</table>\n",
       "</div>"
      ],
      "text/plain": [
       "                                      name  \\\n",
       "anime_id                                     \n",
       "32281                       Kimi no Na wa.   \n",
       "5114      Fullmetal Alchemist: Brotherhood   \n",
       "28977                             Gintama°   \n",
       "9253                           Steins;Gate   \n",
       "9969                         Gintama&#039;   \n",
       "\n",
       "                                                      genre   type episodes  \\\n",
       "anime_id                                                                      \n",
       "32281                  Drama, Romance, School, Supernatural  Movie        1   \n",
       "5114      Action, Adventure, Drama, Fantasy, Magic, Mili...     TV       64   \n",
       "28977     Action, Comedy, Historical, Parody, Samurai, S...     TV       51   \n",
       "9253                                       Sci-Fi, Thriller     TV       24   \n",
       "9969      Action, Comedy, Historical, Parody, Samurai, S...     TV       51   \n",
       "\n",
       "          rating  members  \n",
       "anime_id                   \n",
       "32281       9.37   200630  \n",
       "5114        9.26   793665  \n",
       "28977       9.25   114262  \n",
       "9253        9.17   673572  \n",
       "9969        9.16   151266  "
      ]
     },
     "execution_count": 52,
     "metadata": {},
     "output_type": "execute_result"
    }
   ],
   "source": [
    "# Load anime data using upper function\n",
    "anime = load_anime_data(anime_path = anime_path)\n",
    "\n",
    "anime.head()"
   ]
  },
  {
   "cell_type": "markdown",
   "id": "8db3d45b-c7d8-4c36-99de-5c0611adfb5b",
   "metadata": {},
   "source": [
    "#### Search Top Anime\n",
    "Digunakan untuk mencari anime dengan rating tinggi untuk setiap user"
   ]
  },
  {
   "cell_type": "code",
   "execution_count": 53,
   "id": "be2ef1aa-a1c0-4039-b3bd-0fb5cacc832d",
   "metadata": {
    "tags": []
   },
   "outputs": [],
   "source": [
    "def get_top_highest_unrated(estimator, k, userid, rating, anime):\n",
    "    \"\"\"\n",
    "    Get top k highest of unrated anime from a Surprise estimator RecSys\n",
    "\n",
    "    Parameters\n",
    "    ----------\n",
    "    estimator : Surprise model\n",
    "        The RecSys model\n",
    "\n",
    "    k : int\n",
    "        The number of Recommendations\n",
    "\n",
    "    userid : int\n",
    "        The user Id to recommend\n",
    "\n",
    "    rating : pandas Data Frame\n",
    "        The rating data\n",
    "\n",
    "    anime : pandas DataFrame\n",
    "        The anime meta data\n",
    "\n",
    "    Returns\n",
    "    -------\n",
    "    top_item_pred : pandas DataFrame\n",
    "        The top items recommendations\n",
    "    \"\"\"\n",
    "    # 1. Get the unrated item id of a user id\n",
    "    unrated_item_id = get_unrated_item(userid=userid, rating=rating)\n",
    "\n",
    "    # 2. Create prediction from estimator to all unrated item id\n",
    "    predicted_unrated_item = get_pred_unrated_item(userid = userid,\n",
    "                                                   estimator = estimator,\n",
    "                                                   unrated_item_id = unrated_item_id)\n",
    "\n",
    "    # 3. Sort & add meta data\n",
    "    top_item_pred = predicted_unrated_item.head(k).copy()\n",
    "    top_item_pred['name'] = anime.loc[top_item_pred['anime_id'], 'name'].values\n",
    "    top_item_pred['genre'] = anime.loc[top_item_pred['anime_id'], 'genre'].values\n",
    "\n",
    "    return top_item_pred"
   ]
  },
  {
   "cell_type": "markdown",
   "id": "f8ee8831-1903-4afa-9650-9e38631537a4",
   "metadata": {},
   "source": [
    "#### Menampilkan Rekomendasi Anime untuk setiap User"
   ]
  },
  {
   "cell_type": "code",
   "execution_count": 54,
   "id": "2ffca4f4-07e0-4817-808c-47220c98c11e",
   "metadata": {
    "tags": []
   },
   "outputs": [
    {
     "data": {
      "text/html": [
       "<div>\n",
       "<style scoped>\n",
       "    .dataframe tbody tr th:only-of-type {\n",
       "        vertical-align: middle;\n",
       "    }\n",
       "\n",
       "    .dataframe tbody tr th {\n",
       "        vertical-align: top;\n",
       "    }\n",
       "\n",
       "    .dataframe thead th {\n",
       "        text-align: right;\n",
       "    }\n",
       "</style>\n",
       "<table border=\"1\" class=\"dataframe\">\n",
       "  <thead>\n",
       "    <tr style=\"text-align: right;\">\n",
       "      <th></th>\n",
       "      <th>user_id</th>\n",
       "      <th>anime_id</th>\n",
       "      <th>predicted_rating</th>\n",
       "      <th>name</th>\n",
       "      <th>genre</th>\n",
       "    </tr>\n",
       "  </thead>\n",
       "  <tbody>\n",
       "    <tr>\n",
       "      <th>8277</th>\n",
       "      <td>100</td>\n",
       "      <td>31540</td>\n",
       "      <td>9.773838</td>\n",
       "      <td>Sekkou Boys</td>\n",
       "      <td>Comedy, Music</td>\n",
       "    </tr>\n",
       "    <tr>\n",
       "      <th>3537</th>\n",
       "      <td>100</td>\n",
       "      <td>4353</td>\n",
       "      <td>9.755825</td>\n",
       "      <td>Gakuen Heaven: Hamu Hamu Heaven</td>\n",
       "      <td>Comedy, Drama, Romance, School, Shounen Ai</td>\n",
       "    </tr>\n",
       "    <tr>\n",
       "      <th>2921</th>\n",
       "      <td>100</td>\n",
       "      <td>3269</td>\n",
       "      <td>9.743974</td>\n",
       "      <td>.hack//G.U. Trilogy</td>\n",
       "      <td>Action, Fantasy, Game, Sci-Fi</td>\n",
       "    </tr>\n",
       "    <tr>\n",
       "      <th>6850</th>\n",
       "      <td>100</td>\n",
       "      <td>18689</td>\n",
       "      <td>9.713090</td>\n",
       "      <td>Diamond no Ace</td>\n",
       "      <td>Comedy, School, Shounen, Sports</td>\n",
       "    </tr>\n",
       "    <tr>\n",
       "      <th>2901</th>\n",
       "      <td>100</td>\n",
       "      <td>3231</td>\n",
       "      <td>9.643351</td>\n",
       "      <td>Gunslinger Girl: Il Teatrino</td>\n",
       "      <td>Action, Drama, Military, Sci-Fi</td>\n",
       "    </tr>\n",
       "  </tbody>\n",
       "</table>\n",
       "</div>"
      ],
      "text/plain": [
       "      user_id  anime_id  predicted_rating                             name  \\\n",
       "8277      100     31540          9.773838                      Sekkou Boys   \n",
       "3537      100      4353          9.755825  Gakuen Heaven: Hamu Hamu Heaven   \n",
       "2921      100      3269          9.743974              .hack//G.U. Trilogy   \n",
       "6850      100     18689          9.713090                   Diamond no Ace   \n",
       "2901      100      3231          9.643351     Gunslinger Girl: Il Teatrino   \n",
       "\n",
       "                                           genre  \n",
       "8277                               Comedy, Music  \n",
       "3537  Comedy, Drama, Romance, School, Shounen Ai  \n",
       "2921               Action, Fantasy, Game, Sci-Fi  \n",
       "6850             Comedy, School, Shounen, Sports  \n",
       "2901             Action, Drama, Military, Sci-Fi  "
      ]
     },
     "execution_count": 54,
     "metadata": {},
     "output_type": "execute_result"
    }
   ],
   "source": [
    "# Generate 5 recommendation for user 100\n",
    "get_top_highest_unrated(estimator=model_best,\n",
    "                        k=5,\n",
    "                        userid=100,\n",
    "                        rating=rating,\n",
    "                        anime=anime)"
   ]
  },
  {
   "cell_type": "code",
   "execution_count": null,
   "id": "9d1d88ed-ac07-4ff9-b777-95fab14e0bd2",
   "metadata": {},
   "outputs": [],
   "source": []
  }
 ],
 "metadata": {
  "kernelspec": {
   "display_name": "Python 3 (ipykernel)",
   "language": "python",
   "name": "python3"
  },
  "language_info": {
   "codemirror_mode": {
    "name": "ipython",
    "version": 3
   },
   "file_extension": ".py",
   "mimetype": "text/x-python",
   "name": "python",
   "nbconvert_exporter": "python",
   "pygments_lexer": "ipython3",
   "version": "3.11.4"
  }
 },
 "nbformat": 4,
 "nbformat_minor": 5
}
